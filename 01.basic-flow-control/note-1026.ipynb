{
 "cells": [
  {
   "cell_type": "code",
   "execution_count": 1,
   "metadata": {
    "collapsed": true
   },
   "outputs": [],
   "source": [
    "# String"
   ]
  },
  {
   "cell_type": "code",
   "execution_count": 6,
   "metadata": {
    "collapsed": false
   },
   "outputs": [
    {
     "data": {
      "text/plain": [
       "['1', '2', '3', '4', '5', 'adfasdfasd', '6', '7', '8', '9']"
      ]
     },
     "execution_count": 6,
     "metadata": {},
     "output_type": "execute_result"
    }
   ],
   "source": [
    "'''1 2  3 4 5  \n",
    "\n",
    "  adfasdfasd\n",
    "\n",
    "   6\n",
    "   7 \n",
    "   \n",
    "8       9'''.split()"
   ]
  },
  {
   "cell_type": "code",
   "execution_count": 9,
   "metadata": {
    "collapsed": false
   },
   "outputs": [
    {
     "data": {
      "text/plain": [
       "['234 a ', ' 4564', '65756', 'dfg']"
      ]
     },
     "execution_count": 9,
     "metadata": {},
     "output_type": "execute_result"
    }
   ],
   "source": [
    "'234 a , 4564,65756,dfg'.split(',')"
   ]
  },
  {
   "cell_type": "code",
   "execution_count": 12,
   "metadata": {
    "collapsed": false
   },
   "outputs": [
    {
     "data": {
      "text/plain": [
       "['asdf', 'wjkl;1234;   234;54656']"
      ]
     },
     "execution_count": 12,
     "metadata": {},
     "output_type": "execute_result"
    }
   ],
   "source": [
    "'asdf;wjkl;1234;   234;54656'.split(';', 1)"
   ]
  },
  {
   "cell_type": "code",
   "execution_count": 14,
   "metadata": {
    "collapsed": false
   },
   "outputs": [
    {
     "data": {
      "text/plain": [
       "['Font', '16pt monospace']"
      ]
     },
     "execution_count": 14,
     "metadata": {},
     "output_type": "execute_result"
    }
   ],
   "source": [
    "'Font=16pt monospace'.split('=', 1)"
   ]
  },
  {
   "cell_type": "code",
   "execution_count": 16,
   "metadata": {
    "collapsed": false
   },
   "outputs": [
    {
     "data": {
      "text/plain": [
       "4"
      ]
     },
     "execution_count": 16,
     "metadata": {},
     "output_type": "execute_result"
    }
   ],
   "source": [
    "'fly in the sky'.index('in')"
   ]
  },
  {
   "cell_type": "code",
   "execution_count": 18,
   "metadata": {
    "collapsed": false
   },
   "outputs": [
    {
     "ename": "ValueError",
     "evalue": "substring not found",
     "output_type": "error",
     "traceback": [
      "\u001b[0;31m---------------------------------------------------------------------------\u001b[0m",
      "\u001b[0;31mValueError\u001b[0m                                Traceback (most recent call last)",
      "\u001b[0;32m<ipython-input-18-263f09639f09>\u001b[0m in \u001b[0;36m<module>\u001b[0;34m()\u001b[0m\n\u001b[0;32m----> 1\u001b[0;31m \u001b[0;34m'fly in the sky'\u001b[0m\u001b[0;34m.\u001b[0m\u001b[0mindex\u001b[0m\u001b[0;34m(\u001b[0m\u001b[0;34m'out'\u001b[0m\u001b[0;34m)\u001b[0m\u001b[0;34m\u001b[0m\u001b[0m\n\u001b[0m",
      "\u001b[0;31mValueError\u001b[0m: substring not found"
     ]
    }
   ],
   "source": [
    "'fly in the sky'.index('out')"
   ]
  },
  {
   "cell_type": "code",
   "execution_count": 20,
   "metadata": {
    "collapsed": false
   },
   "outputs": [
    {
     "data": {
      "text/plain": [
       "4"
      ]
     },
     "execution_count": 20,
     "metadata": {},
     "output_type": "execute_result"
    }
   ],
   "source": [
    "'fly in the sky'.find('in')"
   ]
  },
  {
   "cell_type": "code",
   "execution_count": 23,
   "metadata": {
    "collapsed": false
   },
   "outputs": [
    {
     "data": {
      "text/plain": [
       "-1"
      ]
     },
     "execution_count": 23,
     "metadata": {},
     "output_type": "execute_result"
    }
   ],
   "source": [
    "'fly in the sky'.find('out')"
   ]
  },
  {
   "cell_type": "code",
   "execution_count": 25,
   "metadata": {
    "collapsed": false
   },
   "outputs": [
    {
     "data": {
      "text/plain": [
       "'000000123'"
      ]
     },
     "execution_count": 25,
     "metadata": {},
     "output_type": "execute_result"
    }
   ],
   "source": [
    "str(123).zfill(9)"
   ]
  },
  {
   "cell_type": "code",
   "execution_count": 40,
   "metadata": {
    "collapsed": false,
    "scrolled": true
   },
   "outputs": [
    {
     "name": "stdout",
     "output_type": "stream",
     "text": [
      "   123\n",
      "   123\n",
      "123   \n",
      "aaa123\n",
      "123aaa\n"
     ]
    }
   ],
   "source": [
    "print(str(123).rjust(6))\n",
    "print('%6s' % str(123))\n",
    "print('%-6s' % str(123))\n",
    "print(str(123).rjust(6, 'a'))\n",
    "print(str(123).ljust(6, 'a'))"
   ]
  },
  {
   "cell_type": "code",
   "execution_count": 41,
   "metadata": {
    "collapsed": false
   },
   "outputs": [
    {
     "name": "stdout",
     "output_type": "stream",
     "text": [
      ">        apple         <\n",
      ">        banana        <\n",
      ">  this is not fruit   <\n",
      ">        python        <\n"
     ]
    }
   ],
   "source": [
    "for i in ['apple', 'banana', 'this is not fruit', 'python']:\n",
    "    print('> %s <' % i.center(20))"
   ]
  },
  {
   "cell_type": "code",
   "execution_count": 42,
   "metadata": {
    "collapsed": false
   },
   "outputs": [
    {
     "name": "stdout",
     "output_type": "stream",
     "text": [
      "| 001 | Python       | crawler, security    |\n",
      "| 002 | Ruby         | rails, rpg maker     |\n",
      "| 003 | C            | system, fast         |\n"
     ]
    }
   ],
   "source": [
    "table = [\n",
    "    [1, 'Python', 'crawler, security'],\n",
    "    [2, 'Ruby', 'rails, rpg maker'],\n",
    "    [3, 'C', 'system, fast']\n",
    "]\n",
    "\n",
    "for row in table: # 字串格式化的時候必須是 tuple\n",
    "    print('| %03d | %-12s | %-20s |' % tuple(row))"
   ]
  },
  {
   "cell_type": "markdown",
   "metadata": {},
   "source": [
    "## tuple：成員固定的 list"
   ]
  },
  {
   "cell_type": "code",
   "execution_count": 46,
   "metadata": {
    "collapsed": false
   },
   "outputs": [
    {
     "name": "stdout",
     "output_type": "stream",
     "text": [
      "<class 'tuple'>\n",
      "(1, 2, 'asdf', False)\n"
     ]
    }
   ],
   "source": [
    "a = (1,2,'asdf',False)\n",
    "print(type(a))\n",
    "print(a)"
   ]
  },
  {
   "cell_type": "code",
   "execution_count": 61,
   "metadata": {
    "collapsed": false
   },
   "outputs": [
    {
     "name": "stdout",
     "output_type": "stream",
     "text": [
      "True\n",
      "False\n",
      "True\n",
      "t is t2 False\n",
      "t == t2 True\n",
      "(1, 2, 3, 4, 5, 6)\n",
      "t is t_backup False\n"
     ]
    }
   ],
   "source": [
    "a = [1,2,3]\n",
    "b = list(range(1,4))\n",
    "c = a\n",
    "print(a == b)\n",
    "print(a is b) # 是否為同一物件\n",
    "print(c is a)\n",
    "\n",
    "t = (1,2,3)\n",
    "t2 = (1,2,3)\n",
    "print(\"t is t2\", t is t2)\n",
    "print(\"t == t2\", t == t2)\n",
    "t_backup = t\n",
    "t += (4,5,6)\n",
    "print(t)\n",
    "print(\"t is t_backup\", t is t_backup)"
   ]
  },
  {
   "cell_type": "markdown",
   "metadata": {},
   "source": [
    "# 回文"
   ]
  },
  {
   "cell_type": "code",
   "execution_count": 64,
   "metadata": {
    "collapsed": false
   },
   "outputs": [
    {
     "name": "stdout",
     "output_type": "stream",
     "text": [
      "False\n",
      "True\n"
     ]
    }
   ],
   "source": [
    "def is_mirror_str(a):\n",
    "    for i in range(len(a)):\n",
    "        if a[i] != a[-i-1]:\n",
    "            return False\n",
    "    return True\n",
    "\n",
    "print(is_mirror_str('abc'))\n",
    "print(is_mirror_str('aba'))"
   ]
  },
  {
   "cell_type": "code",
   "execution_count": 66,
   "metadata": {
    "collapsed": false
   },
   "outputs": [
    {
     "name": "stdout",
     "output_type": "stream",
     "text": [
      "False\n",
      "True\n"
     ]
    }
   ],
   "source": [
    "def is_mirror_str2(n):\n",
    "    return n == n[::-1]\n",
    "\n",
    "print(is_mirror_str('abc'))\n",
    "print(is_mirror_str('aba'))"
   ]
  },
  {
   "cell_type": "code",
   "execution_count": 69,
   "metadata": {
    "collapsed": false
   },
   "outputs": [
    {
     "data": {
      "text/plain": [
       "[1, 1, 2, 3, 5, 8, 13, 21, 34]"
      ]
     },
     "execution_count": 69,
     "metadata": {},
     "output_type": "execute_result"
    }
   ],
   "source": [
    "def fib(n): # 費氏數列\n",
    "    if n == 1 or n == 2:\n",
    "        return 1\n",
    "    else:\n",
    "        return fib(n-1) + fib(n-2)\n",
    "[ fib(i) for i in range(1, 10) ]"
   ]
  },
  {
   "cell_type": "code",
   "execution_count": 73,
   "metadata": {
    "collapsed": false
   },
   "outputs": [
    {
     "name": "stdout",
     "output_type": "stream",
     "text": [
      "False\n",
      "True\n"
     ]
    }
   ],
   "source": [
    "def is_mirror_rec(n):\n",
    "    # print('>', n) # 印出每一步\n",
    "    if len(n) < 2:\n",
    "        return True\n",
    "    else:\n",
    "        return n[0] == n[-1] and is_mirror_rec(n[1:-1])\n",
    "\n",
    "print(is_mirror_rec('abcdba'))\n",
    "print(is_mirror_rec('abcba'))"
   ]
  },
  {
   "cell_type": "markdown",
   "metadata": {},
   "source": [
    "## 字串取代"
   ]
  },
  {
   "cell_type": "code",
   "execution_count": 75,
   "metadata": {
    "collapsed": false
   },
   "outputs": [
    {
     "data": {
      "text/plain": [
       "'I have many smartphone'"
      ]
     },
     "execution_count": 75,
     "metadata": {},
     "output_type": "execute_result"
    }
   ],
   "source": [
    "\"I have a smartphone\".replace(\" a \", \" many \")"
   ]
  },
  {
   "cell_type": "markdown",
   "metadata": {},
   "source": [
    "## dict"
   ]
  },
  {
   "cell_type": "code",
   "execution_count": 90,
   "metadata": {
    "collapsed": false
   },
   "outputs": [
    {
     "name": "stdout",
     "output_type": "stream",
     "text": [
      "{False: True, 'a': 'b', 123: [9, 8, 7]}\n",
      "b\n",
      "[9, 8, 7]\n",
      "{False: True, 'a': 'b', 123: [9, 8, 7], 134: 'abcd'}\n"
     ]
    }
   ],
   "source": [
    "d = { 'a': 'b', 123: [9,8,7], False: True }\n",
    "print(d)\n",
    "print(d['a'])\n",
    "print(d[123])\n",
    "\n",
    "d[134] = 'abcd'\n",
    "print(d)"
   ]
  },
  {
   "cell_type": "code",
   "execution_count": 100,
   "metadata": {
    "collapsed": false
   },
   "outputs": [
    {
     "name": "stdout",
     "output_type": "stream",
     "text": [
      "{'abc': 0, 'def': 777, 345: 789, 999: 1}\n",
      "abc\n",
      "def\n",
      "345\n",
      "999\n",
      "abc\n",
      "def\n",
      "345\n",
      "999\n"
     ]
    }
   ],
   "source": [
    "e = { 'abc': 123, 999: 1 }\n",
    "f = { 'def': 777, 345: 789, 'abc': 0 }\n",
    "e.update(f)\n",
    "print(e)\n",
    "for k in e.keys():\n",
    "    print(k)\n",
    "for i in e: # same as e.keys()\n",
    "    print(i)"
   ]
  },
  {
   "cell_type": "code",
   "execution_count": 106,
   "metadata": {
    "collapsed": false
   },
   "outputs": [
    {
     "name": "stdout",
     "output_type": "stream",
     "text": [
      "2\n",
      "None\n",
      "-999\n",
      "after del g[1] -> {2: 3, 3: 4}\n"
     ]
    }
   ],
   "source": [
    "g = { 1: 2, 2: 3, 3: 4 }\n",
    "print(g[1])\n",
    "print(g.get(0)) # print(g[0])\n",
    "print(g.get('key not found', -999))\n",
    "del g[1]\n",
    "print('after del g[1] ->', g)"
   ]
  },
  {
   "cell_type": "markdown",
   "metadata": {},
   "source": [
    "### dict 練習\n",
    "\n",
    "- 輸入一串文字\n",
    "- 統計每個英文字出現的次數並且印出結果\n",
    "- 統計刪除非母音的英文字母統計資料\n",
    "- 印出結果"
   ]
  },
  {
   "cell_type": "code",
   "execution_count": 119,
   "metadata": {
    "collapsed": false
   },
   "outputs": [
    {
     "name": "stdout",
     "output_type": "stream",
     "text": [
      "aasassaewewewe\n",
      "{'s': 3, 'a': 4, 'e': 4, 'w': 3}\n",
      "a -> 4\n",
      "e -> 4\n"
     ]
    }
   ],
   "source": [
    "s = input()\n",
    "d = {}\n",
    "alphabet = 'abcdefghijklmnopqrstuvwxyz'\n",
    "alphabet += alphabet.upper()\n",
    "for i in s:\n",
    "    if i in alphabet:\n",
    "        d[i] = d.get(i, 0) + 1\n",
    "print(d)\n",
    "\n",
    "for i in alphabet:\n",
    "    if i not in 'aeiouAEIOU' and i in d.keys():\n",
    "        del d[i]\n",
    "\n",
    "for key, val in d.items():\n",
    "    print('%s -> %s' % (key, val))"
   ]
  },
  {
   "cell_type": "code",
   "execution_count": 123,
   "metadata": {
    "collapsed": false
   },
   "outputs": [
    {
     "name": "stdout",
     "output_type": "stream",
     "text": [
      "{0: '(0000)', 1: '(0001)', 4: '(0002)', 16: '(0004)', 9: '(0003)'}\n"
     ]
    }
   ],
   "source": [
    "e = { i ** 2: '(%04d)' % i for i in range(5) }\n",
    "# e = { (i ** 2): ('(%04d)' % i) for i in range(5) }\n",
    "print(e)"
   ]
  },
  {
   "cell_type": "code",
   "execution_count": null,
   "metadata": {
    "collapsed": true
   },
   "outputs": [],
   "source": []
  }
 ],
 "metadata": {
  "kernelspec": {
   "display_name": "Python 3",
   "language": "python",
   "name": "python3"
  },
  "language_info": {
   "codemirror_mode": {
    "name": "ipython",
    "version": 3
   },
   "file_extension": ".py",
   "mimetype": "text/x-python",
   "name": "python",
   "nbconvert_exporter": "python",
   "pygments_lexer": "ipython3",
   "version": "3.5.0"
  }
 },
 "nbformat": 4,
 "nbformat_minor": 0
}
