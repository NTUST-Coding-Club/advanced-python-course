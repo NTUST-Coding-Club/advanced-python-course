{
 "cells": [
  {
   "cell_type": "markdown",
   "metadata": {},
   "source": [
    "# 10/19\n",
    "\n",
    "## [Slide](https://www.dropbox.com/s/7rai71b0c64e7gu/00_2015-10-19.pdf?dl=1)"
   ]
  },
  {
   "cell_type": "code",
   "execution_count": 2,
   "metadata": {
    "collapsed": false
   },
   "outputs": [
    {
     "name": "stdout",
     "output_type": "stream",
     "text": [
      "[1, 2, 3, 4, 5, 6, 7, 8, 9, 10]\n"
     ]
    }
   ],
   "source": [
    "a = []\n",
    "for i in range(1, 11):\n",
    "    a.append(i)\n",
    "    \n",
    "print(a)"
   ]
  },
  {
   "cell_type": "code",
   "execution_count": 5,
   "metadata": {
    "collapsed": false
   },
   "outputs": [
    {
     "name": "stdout",
     "output_type": "stream",
     "text": [
      "[1, 2, 3, 4, 5, 6, 7, 8, 9, 10]\n"
     ]
    }
   ],
   "source": [
    "a = [ i for i in range(1, 11) ]\n",
    "print(a)"
   ]
  },
  {
   "cell_type": "code",
   "execution_count": 9,
   "metadata": {
    "collapsed": false
   },
   "outputs": [
    {
     "data": {
      "text/plain": [
       "[1, 3, 5, 7, 9]"
      ]
     },
     "execution_count": 9,
     "metadata": {},
     "output_type": "execute_result"
    }
   ],
   "source": [
    "[ i for i in range(1, 10, 2) ]"
   ]
  },
  {
   "cell_type": "code",
   "execution_count": 10,
   "metadata": {
    "collapsed": false
   },
   "outputs": [
    {
     "name": "stdout",
     "output_type": "stream",
     "text": [
      "range(1, 10, 2)\n",
      "[1, 3, 5, 7, 9]\n"
     ]
    }
   ],
   "source": [
    "print(range(1, 10, 2))\n",
    "print(list(range(1, 10, 2)))"
   ]
  },
  {
   "cell_type": "code",
   "execution_count": 14,
   "metadata": {
    "collapsed": false
   },
   "outputs": [
    {
     "data": {
      "text/plain": [
       "['0AABC', '1AABC', '2AABC', '3AABC', '4AABC']"
      ]
     },
     "execution_count": 14,
     "metadata": {},
     "output_type": "execute_result"
    }
   ],
   "source": [
    "[ str(i) + \"AABC\" for i in range(5) ]"
   ]
  },
  {
   "cell_type": "code",
   "execution_count": 13,
   "metadata": {
    "collapsed": false
   },
   "outputs": [
    {
     "name": "stdout",
     "output_type": "stream",
     "text": [
      "[0, 1, 2, 3, 4, 6, 7, 8, 9]\n"
     ]
    }
   ],
   "source": [
    "a = [ i for i in range(10) ]\n",
    "a.remove(5)\n",
    "print(a)"
   ]
  },
  {
   "cell_type": "code",
   "execution_count": 16,
   "metadata": {
    "collapsed": false
   },
   "outputs": [
    {
     "data": {
      "text/plain": [
       "[1, 2, 4, 5, 7, 8]"
      ]
     },
     "execution_count": 16,
     "metadata": {},
     "output_type": "execute_result"
    }
   ],
   "source": [
    "[ i for i in range(10) if i % 3 > 0 ]"
   ]
  },
  {
   "cell_type": "markdown",
   "metadata": {},
   "source": [
    "### 練習\n",
    "\n",
    "- list 內有 333 ~ 666 之間的數字\n",
    "- 不含 3 的倍數\n",
    "- 不含 7 的倍數"
   ]
  },
  {
   "cell_type": "code",
   "execution_count": 23,
   "metadata": {
    "collapsed": false
   },
   "outputs": [
    {
     "data": {
      "text/plain": [
       "[334, 335, 337, 338, 340, 341, 344, 346, 347, 349, 352, 353, 355, 356]"
      ]
     },
     "execution_count": 23,
     "metadata": {},
     "output_type": "execute_result"
    }
   ],
   "source": [
    "[ i for i in range(333, 667 - 310) if i % 3 != 0 and i % 7 != 0 ]"
   ]
  },
  {
   "cell_type": "code",
   "execution_count": 27,
   "metadata": {
    "collapsed": false
   },
   "outputs": [
    {
     "data": {
      "text/plain": [
       "['f(1) = 4',\n",
       " 'f(2) = 9',\n",
       " 'f(3) = 16',\n",
       " 'f(4) = 25',\n",
       " 'f(5) = 36',\n",
       " 'f(6) = 49',\n",
       " 'f(7) = 64',\n",
       " 'f(8) = 81',\n",
       " 'f(9) = 100',\n",
       " 'f(10) = 121']"
      ]
     },
     "execution_count": 27,
     "metadata": {},
     "output_type": "execute_result"
    }
   ],
   "source": [
    "def f(x):  # x平方 + 2x + 1\n",
    "    return x ** 2 + 2 * x + 1\n",
    "\n",
    "[ \"f(%d) = %d\" % (i, f(i)) for i in range(1, 11) ]"
   ]
  },
  {
   "cell_type": "code",
   "execution_count": 30,
   "metadata": {
    "collapsed": false
   },
   "outputs": [
    {
     "name": "stdout",
     "output_type": "stream",
     "text": [
      "[-4, 3, 22, 59, 120, 211, 338, 507, 724, 995, 1326, 1723, 2192, 2739, 3370, 4091, 4908, 5827, 6854, 7995, 9256, 10643, 12162, 13819, 15620, 17571, 19678, 21947, 24384, 26995, 29786, 32763, 35932, 39299, 42870, 46651, 50648, 54867, 59314, 63995, 68916, 74083, 79502, 85179, 91120, 97331, 103818, 110587, 117644, 124995, 132646, 140603, 148872, 157459, 166370, 175611, 185188, 195107, 205374, 215995, 226976, 238323, 250042, 262139, 274620, 287491, 300758, 314427, 328504, 342995, 357906, 373243, 389012, 405219, 421870, 438971, 456528, 474547, 493034, 511995, 531436, 551363, 571782, 592699, 614120, 636051, 658498, 681467, 704964, 728995, 753566, 778683, 804352, 830579, 857370, 884731, 912668, 941187, 970294, 999995]\n",
      "[3, 23, 229, 2869, 43531, 776887, 15953673, 370643273, 9612579511, 275311670611]\n"
     ]
    }
   ],
   "source": [
    "print([ i ** 3 - 5 for i in range(1, 101)])\n",
    "print([ (i+1) ** (i+1) - i ** i for i in range(1, 11)])"
   ]
  },
  {
   "cell_type": "markdown",
   "metadata": {},
   "source": [
    "## 超強大的一行找質數\n",
    "\n",
    "- 外層的 list comprehension 列出要被檢查的數字\n",
    "- 如果 找到任何一個數字可以整除 n\n",
    "    - 他不是質數（這裡會用一個not加一個any）\n",
    "- 內層列出 2 ~ (n-1) 做餘數測試"
   ]
  },
  {
   "cell_type": "code",
   "execution_count": 32,
   "metadata": {
    "collapsed": false
   },
   "outputs": [
    {
     "name": "stdout",
     "output_type": "stream",
     "text": [
      "[2, 3, 5, 7, 11, 13, 17, 19, 23, 29, 31, 37, 41, 43, 47, 53, 59, 61, 67, 71, 73, 79, 83, 89, 97]\n"
     ]
    }
   ],
   "source": [
    "print([\n",
    "    n\n",
    "    for n in range(2, 100)\n",
    "    if not any( n % i == 0 for i in range(2, n) )\n",
    "])"
   ]
  },
  {
   "cell_type": "code",
   "execution_count": 35,
   "metadata": {
    "collapsed": false,
    "scrolled": true
   },
   "outputs": [
    {
     "name": "stdout",
     "output_type": "stream",
     "text": [
      "0 will be False\n",
      "1 will be True\n",
      "0.0 will be False\n",
      "1.1 will be True\n",
      "True will be True\n",
      "False will be False\n",
      "asdf will be True\n",
      " will be False\n",
      "[1, 2, 3] will be True\n",
      "[] will be False\n",
      "None will be False\n"
     ]
    }
   ],
   "source": [
    "# 什麼東西是 True / False\n",
    "\n",
    "test_items = [\n",
    "    0, 1, 0.0, 1.1,\n",
    "    True, False,\n",
    "    \"asdf\", \"\",\n",
    "    [1,2,3], [],\n",
    "    None\n",
    "]\n",
    "\n",
    "for item in test_items:\n",
    "    print('%s will be %s' % (item, bool(item)))"
   ]
  },
  {
   "cell_type": "code",
   "execution_count": 38,
   "metadata": {
    "collapsed": false
   },
   "outputs": [
    {
     "name": "stdout",
     "output_type": "stream",
     "text": [
      "Hi, Inndy\n",
      "None\n"
     ]
    }
   ],
   "source": [
    "# None 怎麼來的\n",
    "def say_hi(to):\n",
    "    print('Hi, %s' % to)\n",
    "\n",
    "return_value = say_hi('Inndy')\n",
    "print(return_value)"
   ]
  },
  {
   "cell_type": "code",
   "execution_count": 46,
   "metadata": {
    "collapsed": false
   },
   "outputs": [
    {
     "name": "stdout",
     "output_type": "stream",
     "text": [
      "True\n",
      "False\n",
      "True\n",
      "True\n"
     ]
    }
   ],
   "source": [
    "# any, all\n",
    "\n",
    "# any -> all items in iterable msut be true\n",
    "\n",
    "print(any([1, 0, False, 0.0, \"\"]))\n",
    "print(all([1, 0, False, 0.0, \"\"]))\n",
    "print(any([1, \"asdf\", [1,2,3], 0.000001]))\n",
    "print(all([1, \"asdf\", [1,2,3], 0.000001]))"
   ]
  },
  {
   "cell_type": "code",
   "execution_count": 48,
   "metadata": {
    "collapsed": false
   },
   "outputs": [
    {
     "name": "stdout",
     "output_type": "stream",
     "text": [
      "[2, 3, 5, 7, 11, 13, 17, 19, 23, 29, 31, 37, 41, 43, 47, 53, 59, 61, 67, 71, 73, 79, 83, 89, 97]\n"
     ]
    }
   ],
   "source": [
    "def is_prime(i):\n",
    "    return not any([i % j == 0 for j in range(2, i)])\n",
    "\n",
    "print([\n",
    "    i\n",
    "    for i in range(2, 100)\n",
    "    if is_prime(i)\n",
    "])"
   ]
  },
  {
   "cell_type": "code",
   "execution_count": 55,
   "metadata": {
    "collapsed": false
   },
   "outputs": [
    {
     "name": "stdout",
     "output_type": "stream",
     "text": [
      "<generator object <genexpr> at 0x7f1e3001f5a0>\n",
      "[0, 1, 196, 261, 121, 55, 96, 151, 256, 156]\n"
     ]
    }
   ],
   "source": [
    "a = ( i ** 1000 % 345 for i in range(10) )\n",
    "print(a) # generator\n",
    "a = list(a) # 強迫展開成 list\n",
    "print(a)"
   ]
  },
  {
   "cell_type": "code",
   "execution_count": 61,
   "metadata": {
    "collapsed": false
   },
   "outputs": [
    {
     "name": "stdout",
     "output_type": "stream",
     "text": [
      "1\n",
      "196\n",
      "261\n",
      "121\n"
     ]
    }
   ],
   "source": [
    "a = ( i ** 1000 % 345 for i in range(1, 5) )\n",
    "for i in a:\n",
    "    print(i)"
   ]
  },
  {
   "cell_type": "code",
   "execution_count": 67,
   "metadata": {
    "collapsed": false
   },
   "outputs": [
    {
     "name": "stdout",
     "output_type": "stream",
     "text": [
      "True\n",
      "True\n",
      "True\n",
      "True\n"
     ]
    }
   ],
   "source": [
    "print(\"string\" not in \"the number is 3\")\n",
    "print(\"word\" in \"Office word 2010\")\n",
    "print(5 in range(10))\n",
    "print(3 in [1,2,3])"
   ]
  },
  {
   "cell_type": "code",
   "execution_count": 72,
   "metadata": {
    "collapsed": false
   },
   "outputs": [
    {
     "name": "stdout",
     "output_type": "stream",
     "text": [
      "0, 1, 2, 3\n",
      "\n",
      "000\n",
      "111\n",
      "222\n",
      "333\n"
     ]
    }
   ],
   "source": [
    "print(', '.join([ str(i) for i in range(4) ]))\n",
    "print()\n",
    "print('\\n'.join([ str(i) * 3 for i in range(4) ]))"
   ]
  },
  {
   "cell_type": "markdown",
   "metadata": {},
   "source": [
    "## Challenge: 三角形"
   ]
  },
  {
   "cell_type": "code",
   "execution_count": 85,
   "metadata": {
    "collapsed": false
   },
   "outputs": [
    {
     "name": "stdout",
     "output_type": "stream",
     "text": [
      "*      ****** \n",
      "**     *****       *\n",
      "***    ****       ***\n",
      "****   ***       *****\n",
      "*****  **       *******\n",
      "****** *      \n"
     ]
    }
   ],
   "source": [
    "print('\\n'.join(\n",
    "    '*' * i + ' ' * (7 - i) +\n",
    "    '*' * (7 - i) + ' ' * i +\n",
    "    (\n",
    "        ' ' * (7 - i) + '*' * (i * 2 - 3)\n",
    "        if 1 < i < 6 else\n",
    "        ''\n",
    "    )\n",
    "    for i in range(1, 7)\n",
    "))\n",
    "\n",
    "# a ? b : c\n",
    "# in python: b if a else c"
   ]
  },
  {
   "cell_type": "code",
   "execution_count": 1,
   "metadata": {
    "collapsed": false
   },
   "outputs": [
    {
     "name": "stdout",
     "output_type": "stream",
     "text": [
      "   *\n",
      "  ***\n",
      " *****\n",
      "*******\n"
     ]
    }
   ],
   "source": [
    "print('\\n'.join(\n",
    "    ' ' * (3 - i // 2) + '*' * i\n",
    "    for i in range(1, 8, 2)\n",
    "))"
   ]
  },
  {
   "cell_type": "markdown",
   "metadata": {},
   "source": [
    "## 切字串"
   ]
  },
  {
   "cell_type": "code",
   "execution_count": 14,
   "metadata": {
    "collapsed": false
   },
   "outputs": [
    {
     "name": "stdout",
     "output_type": "stream",
     "text": [
      "ABCDEFGHIJKLM\n",
      "DEFGHIJKLM\n",
      "ABCDEFGH\n",
      "IJKLM\n",
      "\n"
     ]
    }
   ],
   "source": [
    "a = ''.join( chr(i) for i in range(65, 65+26) )\n",
    "a = a[:len(a) // 2]\n",
    "print(a)\n",
    "print(a[3:])\n",
    "print(a[:-5])\n",
    "print(a[-5:])\n",
    "print(a[10:3])"
   ]
  }
 ],
 "metadata": {
  "kernelspec": {
   "display_name": "Python 3",
   "language": "python",
   "name": "python3"
  },
  "language_info": {
   "codemirror_mode": {
    "name": "ipython",
    "version": 3
   },
   "file_extension": ".py",
   "mimetype": "text/x-python",
   "name": "python",
   "nbconvert_exporter": "python",
   "pygments_lexer": "ipython3",
   "version": "3.4.0"
  }
 },
 "nbformat": 4,
 "nbformat_minor": 0
}
