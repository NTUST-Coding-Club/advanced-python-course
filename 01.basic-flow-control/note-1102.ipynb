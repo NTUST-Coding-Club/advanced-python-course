{
 "cells": [
  {
   "cell_type": "markdown",
   "metadata": {},
   "source": [
    "# [Slide](https://www.dropbox.com/s/kbvtu44wlshzju1/2015-11-02.pdf?dl=1)"
   ]
  },
  {
   "cell_type": "code",
   "execution_count": 1,
   "metadata": {
    "collapsed": false
   },
   "outputs": [
    {
     "name": "stdout",
     "output_type": "stream",
     "text": [
      "Your name please:Inndy\n"
     ]
    }
   ],
   "source": [
    "myname = input('Your name please:')\n",
    "\n",
    "fobj = open('test.txt', 'w')\n",
    "fobj.write('Hi, %s!' % myname)\n",
    "fobj.close()"
   ]
  },
  {
   "cell_type": "code",
   "execution_count": 2,
   "metadata": {
    "collapsed": false
   },
   "outputs": [
    {
     "name": "stdout",
     "output_type": "stream",
     "text": [
      "File Content: >> Hi, Inndy! <<\n"
     ]
    }
   ],
   "source": [
    "fobj = open('test.txt')\n",
    "print('File Content: >> %s <<' % fobj.read())\n",
    "fobj.close()"
   ]
  },
  {
   "cell_type": "code",
   "execution_count": 4,
   "metadata": {
    "collapsed": true
   },
   "outputs": [],
   "source": [
    "with open('chinese.txt', 'w', encoding='big5') as fout:\n",
    "    fout.write('我要寫中文')"
   ]
  },
  {
   "cell_type": "code",
   "execution_count": 20,
   "metadata": {
    "collapsed": false
   },
   "outputs": [
    {
     "name": "stdout",
     "output_type": "stream",
     "text": [
      ">> 0 Hi, Inndy! <<\n",
      ">> 1 Hi, Inndy! <<\n",
      ">> 2 Hi, Inndy! <<\n",
      "asdf\n",
      "ajdsfka\n"
     ]
    }
   ],
   "source": [
    "with open('test.txt', 'w') as fout:\n",
    "    for i in range(4):\n",
    "        fout.write('%d Hi, %s!\\n' % (i, 'Inndy'))\n",
    "\n",
    "with open('test.txt') as fin:\n",
    "    print('>> %s <<' % fin.readline().rstrip())\n",
    "    print('>> %s <<' % fin.readline().rstrip())\n",
    "    print('>> %s <<' % fin.readline().rstrip())\n",
    "    print('       asdf'.lstrip())\n",
    "    print('    ajdsfka    '.strip())"
   ]
  },
  {
   "cell_type": "code",
   "execution_count": 21,
   "metadata": {
    "collapsed": false
   },
   "outputs": [
    {
     "name": "stdout",
     "output_type": "stream",
     "text": [
      "<class 'list'>\n",
      "['0 Hi, Inndy!\\n', '1 Hi, Inndy!\\n', '2 Hi, Inndy!\\n', '3 Hi, Inndy!\\n']\n"
     ]
    }
   ],
   "source": [
    "with open('test.txt') as fin:\n",
    "    lines = fin.readlines()\n",
    "    print(type(lines))\n",
    "    print(lines)"
   ]
  },
  {
   "cell_type": "code",
   "execution_count": 27,
   "metadata": {
    "collapsed": false
   },
   "outputs": [
    {
     "name": "stdout",
     "output_type": "stream",
     "text": [
      "Line#0 -> 0 Hi, Inndy!\n",
      "Line#1 -> 1 Hi, Inndy!\n",
      "Line#2 -> 2 Hi, Inndy!\n",
      "Line#3 -> 3 Hi, Inndy!\n"
     ]
    }
   ],
   "source": [
    "with open('test.txt') as fin:\n",
    "    i = 0\n",
    "    for line in fin: # for line in fin.readlines():\n",
    "        print('Line#%d ->' % i, line[:-1])\n",
    "        i += 1"
   ]
  },
  {
   "cell_type": "code",
   "execution_count": 30,
   "metadata": {
    "collapsed": false
   },
   "outputs": [
    {
     "name": "stdout",
     "output_type": "stream",
     "text": [
      "Sum = 901515\n"
     ]
    }
   ],
   "source": [
    "with open(\"numbers.txt\", \"r\") as fo:\n",
    "    s = 0\n",
    "    for i in fo:\n",
    "        s += int(i)\n",
    "print(\"Sum =\", s)"
   ]
  },
  {
   "cell_type": "markdown",
   "metadata": {},
   "source": [
    "# 把 dict 存成檔案並且還原"
   ]
  },
  {
   "cell_type": "code",
   "execution_count": 35,
   "metadata": {
    "collapsed": true
   },
   "outputs": [],
   "source": [
    "d = { \"a\": \"b\", \"c\": \"d\", \"e\": \"ffff\", \"g\": \"aa=bb\" }\n",
    "with open('dict.txt', 'w') as fout:\n",
    "    for key, value in d.items():\n",
    "        fout.write('%s=%s\\n' % (key, value))"
   ]
  },
  {
   "cell_type": "code",
   "execution_count": 40,
   "metadata": {
    "collapsed": false
   },
   "outputs": [
    {
     "name": "stdout",
     "output_type": "stream",
     "text": [
      "g=aa=bb\r\n",
      "e=ffff\r\n",
      "c=d\r\n",
      "a=b\r\n"
     ]
    }
   ],
   "source": [
    "!cat dict.txt\n",
    "# on windows: !type dict.txt"
   ]
  },
  {
   "cell_type": "code",
   "execution_count": 46,
   "metadata": {
    "collapsed": false
   },
   "outputs": [
    {
     "name": "stdout",
     "output_type": "stream",
     "text": [
      "{'g': 'aa=bb', 'e': 'ffff', 'a': 'b', 'c': 'd'}\n"
     ]
    }
   ],
   "source": [
    "d = {}\n",
    "with open('dict.txt') as fin:\n",
    "    for i in fin:\n",
    "        # key, value = i[:-1].split('=', 1)\n",
    "        i = i[:-1] # 去除結尾換行\n",
    "        i = i.split('=', 1) # 以 '=' 分割，切 1 刀\n",
    "        key, value = i\n",
    "        # key = i[0]\n",
    "        # vlaue = i[1]\n",
    "        d[key] = value\n",
    "print(d)"
   ]
  },
  {
   "cell_type": "code",
   "execution_count": 52,
   "metadata": {
    "collapsed": false
   },
   "outputs": [
    {
     "name": "stdout",
     "output_type": "stream",
     "text": [
      "3 3\n"
     ]
    }
   ],
   "source": [
    "a, b, c = 1, 2, 3\n",
    "print(a + b, c)"
   ]
  },
  {
   "cell_type": "code",
   "execution_count": 70,
   "metadata": {
    "collapsed": false
   },
   "outputs": [
    {
     "name": "stdout",
     "output_type": "stream",
     "text": [
      "{'g': 'aa=bb', 'e': 'ffff', 'c': 'd', 'a': 'b'}\n"
     ]
    }
   ],
   "source": [
    "d = { \"a\": \"b\", \"c\": \"d\", \"e\": \"ffff\", \"g\": \"aa=bb\" }\n",
    "with open('dict.txt', 'w') as fout:\n",
    "    fout.write(str(d))\n",
    "    print(str(d))"
   ]
  },
  {
   "cell_type": "code",
   "execution_count": 72,
   "metadata": {
    "collapsed": false
   },
   "outputs": [
    {
     "name": "stdout",
     "output_type": "stream",
     "text": [
      "{'g': 'aa=bb', 'e': 'ffff', 'a': 'b', 'c': 'd'}\n"
     ]
    }
   ],
   "source": [
    "with open('dict.txt') as fin:\n",
    "    d = eval(fin.read()) # eval('code') ，危險！！\n",
    "print(d)"
   ]
  },
  {
   "cell_type": "code",
   "execution_count": 75,
   "metadata": {
    "collapsed": false,
    "scrolled": true
   },
   "outputs": [
    {
     "name": "stdout",
     "output_type": "stream",
     "text": [
      "{\"d2\": {\"g\": \"aa=bb\", \"e\": \"ffff\", \"c\": \"d\", \"asdf\": [null, true, 1.5, 0, \"fasdf\"]}, \"a\": \"b\"}\n"
     ]
    }
   ],
   "source": [
    "d = {\n",
    "    \"a\": \"b\",\n",
    "    \"d2\": {\n",
    "        \"c\": \"d\",\n",
    "        \"e\": \"ffff\",\n",
    "        \"g\": \"aa=bb\",\n",
    "        \"asdf\": [ None, True, 1.5, 0, \"fasdf\" ]\n",
    "    }\n",
    "}\n",
    "\n",
    "import json # JavaScript Object Notation\n",
    "with open('dict.txt', 'w') as fout:\n",
    "    jsondata = json.dumps(d)\n",
    "    fout.write(jsondata)\n",
    "    print(jsondata)"
   ]
  },
  {
   "cell_type": "code",
   "execution_count": 78,
   "metadata": {
    "collapsed": false
   },
   "outputs": [
    {
     "name": "stdout",
     "output_type": "stream",
     "text": [
      "<class 'dict'> {'d2': {'g': 'aa=bb', 'e': 'ffff', 'c': 'd', 'asdf': [None, True, 1.5, 0, 'fasdf']}, 'a': 'b'}\n"
     ]
    }
   ],
   "source": [
    "import json\n",
    "with open('dict.txt') as fin:\n",
    "    d = json.loads(fin.read())\n",
    "    print(type(d), d)"
   ]
  },
  {
   "cell_type": "markdown",
   "metadata": {},
   "source": [
    "# Binary Data Processing"
   ]
  },
  {
   "cell_type": "code",
   "execution_count": 86,
   "metadata": {
    "collapsed": false
   },
   "outputs": [
    {
     "name": "stdout",
     "output_type": "stream",
     "text": [
      "<class 'bytearray'> bytearray(b'\\xe4\\xb8\\x80\\xe4\\xb8\\xb2\\xe6\\x96\\x87\\xe5\\xad\\x97')\n"
     ]
    }
   ],
   "source": [
    "# 簡單 xor 加密\n",
    "\n",
    "s = '一串文字'\n",
    "b = s.encode('utf-8') # 變成 bytes\n",
    "b2 = bytearray(b)\n",
    "print(type(b2), b2)\n",
    "\n",
    "for i in range(len(b2)):\n",
    "    b2[i] ^= 0xaa\n",
    "    \n",
    "with open('binary.txt', 'wb') as fout:\n",
    "    fout.write(b2)"
   ]
  },
  {
   "cell_type": "code",
   "execution_count": 89,
   "metadata": {
    "collapsed": false
   },
   "outputs": [
    {
     "name": "stdout",
     "output_type": "stream",
     "text": [
      "一串文字\n"
     ]
    }
   ],
   "source": [
    "with open('binary.txt', 'rb') as fin:\n",
    "    b = bytearray(fin.read())\n",
    "    for i in range(len(b)):\n",
    "        b[i] ^= 0xaa\n",
    "    b = bytes(b) # 轉回 bytes 準備 decode\n",
    "    print(b.decode('utf-8'))"
   ]
  },
  {
   "cell_type": "markdown",
   "metadata": {},
   "source": [
    "### A ^ B = C\n",
    "### A = B ^ C\n",
    "### B = A ^ C\n",
    "\n",
    "### A ^ B ^ C = 0"
   ]
  },
  {
   "cell_type": "markdown",
   "metadata": {},
   "source": [
    "# 錯誤處理"
   ]
  },
  {
   "cell_type": "code",
   "execution_count": 90,
   "metadata": {
    "collapsed": false
   },
   "outputs": [
    {
     "name": "stdout",
     "output_type": "stream",
     "text": [
      "數字：jdlksfjaklsdfjlk\n",
      "invalid literal for int() with base 10: 'jdlksfjaklsdfjlk'\n",
      "請輸入正確的數字\n",
      "數字：0.1\n",
      "invalid literal for int() with base 10: '0.1'\n",
      "請輸入正確的數字\n",
      "數字：123\n",
      "15129\n"
     ]
    }
   ],
   "source": [
    "def readint(prompt=''):\n",
    "    while True:\n",
    "        n = input(prompt)\n",
    "        try:\n",
    "            return int(n)\n",
    "        except ValueError as e:\n",
    "            print(e)\n",
    "            print('請輸入正確的數字')\n",
    "\n",
    "print(readint('數字：') ** 2)"
   ]
  },
  {
   "cell_type": "code",
   "execution_count": 95,
   "metadata": {
    "collapsed": false
   },
   "outputs": [
    {
     "name": "stdout",
     "output_type": "stream",
     "text": [
      "Which month? -1000\n"
     ]
    },
    {
     "ename": "IndexError",
     "evalue": "list index out of range",
     "output_type": "error",
     "traceback": [
      "\u001b[0;31m---------------------------------------------------------------------------\u001b[0m",
      "\u001b[0;31mIndexError\u001b[0m                                Traceback (most recent call last)",
      "\u001b[0;32m<ipython-input-95-7cf6043c4d65>\u001b[0m in \u001b[0;36m<module>\u001b[0;34m()\u001b[0m\n\u001b[1;32m      5\u001b[0m     \u001b[0mm\u001b[0m \u001b[0;34m=\u001b[0m \u001b[0mint\u001b[0m\u001b[0;34m(\u001b[0m\u001b[0minput\u001b[0m\u001b[0;34m(\u001b[0m\u001b[0;34m\"Which month? \"\u001b[0m\u001b[0;34m)\u001b[0m\u001b[0;34m)\u001b[0m\u001b[0;34m\u001b[0m\u001b[0m\n\u001b[1;32m      6\u001b[0m     print(\"Month #\" + str(m) + \" is \" +\n\u001b[0;32m----> 7\u001b[0;31m           months[m - 1])\n\u001b[0m\u001b[1;32m      8\u001b[0m \u001b[0;32mexcept\u001b[0m \u001b[0mValueError\u001b[0m\u001b[0;34m:\u001b[0m\u001b[0;34m\u001b[0m\u001b[0m\n\u001b[1;32m      9\u001b[0m     \u001b[0mprint\u001b[0m\u001b[0;34m(\u001b[0m\u001b[0;34m\"Not a valid integer\"\u001b[0m\u001b[0;34m)\u001b[0m\u001b[0;34m\u001b[0m\u001b[0m\n",
      "\u001b[0;31mIndexError\u001b[0m: list index out of range"
     ]
    }
   ],
   "source": [
    "months = (\"Jan Feb Mar Apr May Jun Jul \" +\n",
    "         \"Aug Sep Oct Nov Dec\").split(\" \")\n",
    "\n",
    "try:\n",
    "    m = int(input(\"Which month? \"))\n",
    "    print(\"Month #\" + str(m) + \" is \" +\n",
    "          months[m - 1])\n",
    "except ValueError:\n",
    "    print(\"Not a valid integer\")"
   ]
  }
 ],
 "metadata": {
  "kernelspec": {
   "display_name": "Python 3",
   "language": "python",
   "name": "python3"
  },
  "language_info": {
   "codemirror_mode": {
    "name": "ipython",
    "version": 3
   },
   "file_extension": ".py",
   "mimetype": "text/x-python",
   "name": "python",
   "nbconvert_exporter": "python",
   "pygments_lexer": "ipython3",
   "version": "3.5.0"
  }
 },
 "nbformat": 4,
 "nbformat_minor": 0
}
