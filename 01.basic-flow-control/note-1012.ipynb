{
 "cells": [
  {
   "cell_type": "markdown",
   "metadata": {
    "collapsed": true
   },
   "source": [
    "# 2015-10-12\n",
    "\n",
    "## [Slide](https://www.dropbox.com/s/4m7rlsi8wubju4j/00_2015-10-12.pdf?dl=1)\n",
    "\n",
    "輸入下面指令升級 IPython Notebook\n",
    "\n",
    "``` shell\n",
    "sudo pip3 install -U \"ipython[notebook]\"\n",
    "```"
   ]
  },
  {
   "cell_type": "code",
   "execution_count": 2,
   "metadata": {
    "collapsed": false
   },
   "outputs": [
    {
     "name": "stdout",
     "output_type": "stream",
     "text": [
      "0\n",
      "1\n",
      "2\n",
      "3\n",
      "4\n",
      "5\n"
     ]
    }
   ],
   "source": [
    "for i in range(10):\n",
    "    print(i)\n",
    "    if i == 5:\n",
    "        break\n",
    "else:\n",
    "    print(\"All done\")"
   ]
  },
  {
   "cell_type": "code",
   "execution_count": 13,
   "metadata": {
    "collapsed": false
   },
   "outputs": [
    {
     "name": "stdout",
     "output_type": "stream",
     "text": [
      "0\n",
      "1\n",
      "2\n",
      "3\n",
      "4\n",
      "6\n",
      "7\n",
      "8\n",
      "9\n",
      "All done\n"
     ]
    }
   ],
   "source": [
    "for a in range(100):\n",
    "    for i in range(10):\n",
    "        if i == 5:\n",
    "            continue\n",
    "        print(i)\n",
    "    else:\n",
    "        print(\"All done\")\n",
    "    \n",
    "    break\n",
    "else:\n",
    "    print('aaaa')"
   ]
  },
  {
   "cell_type": "code",
   "execution_count": 14,
   "metadata": {
    "collapsed": false
   },
   "outputs": [
    {
     "name": "stdout",
     "output_type": "stream",
     "text": [
      "0.5 0\n"
     ]
    }
   ],
   "source": [
    "print(1 / 2, 1 // 2)  # 兩個除號是整數除法（無條件捨去）"
   ]
  },
  {
   "cell_type": "code",
   "execution_count": 17,
   "metadata": {
    "collapsed": false
   },
   "outputs": [
    {
     "ename": "TypeError",
     "evalue": "'float' object cannot be interpreted as an integer",
     "output_type": "error",
     "traceback": [
      "\u001b[1;31m---------------------------------------------------------------------------\u001b[0m",
      "\u001b[1;31mTypeError\u001b[0m                                 Traceback (most recent call last)",
      "\u001b[1;32m<ipython-input-17-cb2de50ea7d3>\u001b[0m in \u001b[0;36m<module>\u001b[1;34m()\u001b[0m\n\u001b[1;32m----> 1\u001b[1;33m \u001b[0mrange\u001b[0m\u001b[1;33m(\u001b[0m\u001b[1;36m4\u001b[0m \u001b[1;33m/\u001b[0m \u001b[1;36m3\u001b[0m\u001b[1;33m)\u001b[0m \u001b[1;31m# range 不吃 float\u001b[0m\u001b[1;33m\u001b[0m\u001b[0m\n\u001b[0m",
      "\u001b[1;31mTypeError\u001b[0m: 'float' object cannot be interpreted as an integer"
     ]
    }
   ],
   "source": [
    "range(4 / 3) # range 不吃 float"
   ]
  },
  {
   "cell_type": "code",
   "execution_count": 19,
   "metadata": {
    "collapsed": false
   },
   "outputs": [
    {
     "name": "stdout",
     "output_type": "stream",
     "text": [
      "2 is prime\n",
      "3 is prime\n",
      "5 is prime\n",
      "7 is prime\n",
      "11 is prime\n",
      "13 is prime\n",
      "17 is prime\n",
      "19 is prime\n",
      "23 is prime\n",
      "29 is prime\n",
      "31 is prime\n",
      "37 is prime\n",
      "41 is prime\n",
      "43 is prime\n",
      "47 is prime\n",
      "53 is prime\n",
      "59 is prime\n",
      "61 is prime\n",
      "67 is prime\n",
      "71 is prime\n",
      "73 is prime\n",
      "79 is prime\n",
      "83 is prime\n",
      "89 is prime\n",
      "97 is prime\n"
     ]
    }
   ],
   "source": [
    "for i in range(2, 101):\n",
    "    for j in range(2, i // 2 + 1):\n",
    "        if i % j == 0:\n",
    "            break\n",
    "    else:\n",
    "        print('%d is prime' % i)"
   ]
  },
  {
   "cell_type": "code",
   "execution_count": 56,
   "metadata": {
    "collapsed": false
   },
   "outputs": [
    {
     "data": {
      "text/plain": [
       "6"
      ]
     },
     "execution_count": 56,
     "metadata": {},
     "output_type": "execute_result"
    }
   ],
   "source": [
    "import random\n",
    "\n",
    "random.randint(5, 7)"
   ]
  },
  {
   "cell_type": "code",
   "execution_count": 69,
   "metadata": {
    "collapsed": false
   },
   "outputs": [
    {
     "data": {
      "text/plain": [
       "6"
      ]
     },
     "execution_count": 69,
     "metadata": {},
     "output_type": "execute_result"
    }
   ],
   "source": [
    "from random import randint\n",
    "\n",
    "randint(1, 100)"
   ]
  },
  {
   "cell_type": "markdown",
   "metadata": {},
   "source": [
    "## 猜數字"
   ]
  },
  {
   "cell_type": "code",
   "execution_count": 72,
   "metadata": {
    "collapsed": false
   },
   "outputs": [
    {
     "name": "stdout",
     "output_type": "stream",
     "text": [
      "Guess: 50\n",
      "Lower\n",
      "Guess: 25\n",
      "Lower\n",
      "Guess: 12\n",
      "Bigger\n",
      "Guess: 19\n",
      "Lower\n",
      "Guess: 15\n",
      "Lower\n",
      "Guess: 13\n",
      "You win!\n"
     ]
    }
   ],
   "source": [
    "from random import randint\n",
    "\n",
    "x = randint(1, 100)\n",
    "\n",
    "while True:\n",
    "    n = input('Guess: ')\n",
    "    n = int(n)\n",
    "    \n",
    "    if n == x:\n",
    "        print('You win!')\n",
    "        break\n",
    "    elif n > x:\n",
    "        print('Lower')\n",
    "    else:\n",
    "        print('Bigger')"
   ]
  },
  {
   "cell_type": "markdown",
   "metadata": {},
   "source": [
    "# List"
   ]
  },
  {
   "cell_type": "code",
   "execution_count": 81,
   "metadata": {
    "collapsed": false
   },
   "outputs": [
    {
     "name": "stdout",
     "output_type": "stream",
     "text": [
      "[7, 9]\n",
      "5\n",
      "7\n",
      "9\n",
      "2\n",
      "a.pop() -> 2\n",
      "[5, 7, 9, 1]\n"
     ]
    }
   ],
   "source": [
    "a = [5,7,9,2]\n",
    "print(a[1:3])\n",
    "\n",
    "for i in a:\n",
    "    print(i)\n",
    "print(\"a.pop() -> %d\" % a.pop())\n",
    "a.append(1)\n",
    "print(a)"
   ]
  },
  {
   "cell_type": "code",
   "execution_count": 92,
   "metadata": {
    "collapsed": false
   },
   "outputs": [],
   "source": [
    "# ipython 提供的\n",
    "list.pop?"
   ]
  },
  {
   "cell_type": "code",
   "execution_count": 97,
   "metadata": {
    "collapsed": false
   },
   "outputs": [],
   "source": [
    "#help(list.pop)"
   ]
  },
  {
   "cell_type": "code",
   "execution_count": 94,
   "metadata": {
    "collapsed": false
   },
   "outputs": [
    {
     "name": "stdout",
     "output_type": "stream",
     "text": [
      "[5, 6, 7]\n",
      "Sorted:  [2, 3, 4]\n",
      "3\n",
      "[2, 4]\n"
     ]
    }
   ],
   "source": [
    "b = [2,3,4,[5,6,7]]\n",
    "print(b.pop())\n",
    "b.sort()\n",
    "print('Sorted: ', b)\n",
    "print(b.pop(1))\n",
    "print(b)"
   ]
  },
  {
   "cell_type": "code",
   "execution_count": 104,
   "metadata": {
    "collapsed": false
   },
   "outputs": [],
   "source": [
    "#help(list)"
   ]
  },
  {
   "cell_type": "code",
   "execution_count": null,
   "metadata": {
    "collapsed": true
   },
   "outputs": [],
   "source": []
  },
  {
   "cell_type": "code",
   "execution_count": 106,
   "metadata": {
    "collapsed": false
   },
   "outputs": [
    {
     "name": "stdout",
     "output_type": "stream",
     "text": [
      "2 is at 1\n",
      "[1, 2, 3, 1, 2, 3, 1, 2, 3]\n",
      "[1, 3, 1, 2, 3, 1, 2, 3]\n",
      "[9, 3, 1, 2, 3, 1, 2, 3]\n"
     ]
    }
   ],
   "source": [
    "a = []\n",
    "a.extend([1,2,3])\n",
    "print('2 is at', a.index(2))\n",
    "a = a * 3 # list 重複三次\n",
    "print(a)\n",
    "a.remove(2)\n",
    "print(a)\n",
    "a.insert(0, 9)\n",
    "a.pop(1)\n",
    "print(a)"
   ]
  },
  {
   "cell_type": "code",
   "execution_count": 107,
   "metadata": {
    "collapsed": false
   },
   "outputs": [
    {
     "name": "stdout",
     "output_type": "stream",
     "text": [
      "Help on built-in function max in module builtins:\n",
      "\n",
      "max(...)\n",
      "    max(iterable[, key=func]) -> value\n",
      "    max(a, b, c, ...[, key=func]) -> value\n",
      "    \n",
      "    With a single iterable argument, return its largest item.\n",
      "    With two or more arguments, return the largest argument.\n",
      "\n"
     ]
    }
   ],
   "source": [
    "help(max)"
   ]
  },
  {
   "cell_type": "code",
   "execution_count": 120,
   "metadata": {
    "collapsed": false
   },
   "outputs": [
    {
     "name": "stdout",
     "output_type": "stream",
     "text": [
      "88888888888888\n",
      "12342345\n",
      "123\n",
      "[123451, 123, 999, 456, 1234, 3456, 12342345]\n",
      "rev_a = <list_reverseiterator object at 0x7fa20e2b4048>\n",
      "[12342345, 3456, 1234, 456, 999, 123, 123451]\n",
      "sum(a) =  12472064\n"
     ]
    }
   ],
   "source": [
    "print(max(1,2,3,4,99999999,88888888888888))\n",
    "a = [123451,123,999,456,1234,3456,12342345]\n",
    "print(max(a))\n",
    "print(min(a))\n",
    "print(a)\n",
    "rev_a = reversed(a)\n",
    "print('rev_a =', rev_a)  # 無法直接看到內容，iterator 用到才算\n",
    "# keyword: iterator / generator\n",
    "#for i in rev_a:\n",
    "#    print(i)\n",
    "print(list(reversed(a)))  # 轉換成list\n",
    "print('sum(a) = ', sum(a))"
   ]
  },
  {
   "cell_type": "markdown",
   "metadata": {},
   "source": [
    "## 小測驗\n",
    "\n",
    "- 建立一個叫做 primes 的 list\n",
    "- 在裡面放 50 ~ 500 的質數（使用6n+-1）\n",
    "- 印出 21 ~ 27 個質數"
   ]
  },
  {
   "cell_type": "code",
   "execution_count": 124,
   "metadata": {
    "collapsed": false
   },
   "outputs": [
    {
     "name": "stdout",
     "output_type": "stream",
     "text": [
      "[53, 59, 61, 67, 71, 73, 79, 83, 89, 97, 101, 103, 107, 109, 113, 127, 131, 137, 139, 149, 151, 157, 163, 167, 173, 179, 181, 191, 193, 197, 199, 211, 223, 227, 229, 233, 239, 241, 251, 257, 263, 269, 271, 277, 281, 283, 293, 307, 311, 313, 317, 331, 337, 347, 349, 353, 359, 367, 373, 379, 383, 389, 397, 401, 409, 419, 421, 431, 433, 439, 443, 449, 457, 461, 463, 467, 479, 487, 491, 499]\n",
      "[151, 157, 163, 167, 173, 179, 181]\n"
     ]
    }
   ],
   "source": [
    "def is_prime(n):\n",
    "    for i in range(2, n // 2 + 1):\n",
    "        if n % i == 0:\n",
    "            return False\n",
    "    return True\n",
    "\n",
    "primes = []\n",
    "n = 1\n",
    "\n",
    "while 6 * n < 500:\n",
    "    a = 6 * n + 1\n",
    "    if 500 >= a >= 50 and is_prime(a):\n",
    "        primes.append(a)\n",
    "    a = 6 * n + 5\n",
    "    if 500 >= a >= 50 and is_prime(a):\n",
    "        primes.append(a)\n",
    "\n",
    "    n += 1\n",
    "\n",
    "print(primes)\n",
    "print(primes[20:27])\n",
    "\n",
    "# 第21個 -> index = 20\n",
    "# 第27個 -> index = 26\n",
    "# 因為 sublist[a:b] 是 a <= index < b\n",
    "# sublist[20:27]"
   ]
  }
 ],
 "metadata": {
  "kernelspec": {
   "display_name": "Python 3",
   "language": "python",
   "name": "python3"
  },
  "language_info": {
   "codemirror_mode": {
    "name": "ipython",
    "version": 3
   },
   "file_extension": ".py",
   "mimetype": "text/x-python",
   "name": "python",
   "nbconvert_exporter": "python",
   "pygments_lexer": "ipython3",
   "version": "3.4.0"
  }
 },
 "nbformat": 4,
 "nbformat_minor": 0
}
