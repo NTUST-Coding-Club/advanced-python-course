{
 "metadata": {
  "name": ""
 },
 "nbformat": 3,
 "nbformat_minor": 0,
 "worksheets": [
  {
   "cells": [
    {
     "cell_type": "code",
     "collapsed": false,
     "input": [
      "def age(birth_year):\n",
      "    return 2015 - birth_year"
     ],
     "language": "python",
     "metadata": {},
     "outputs": [],
     "prompt_number": 10
    },
    {
     "cell_type": "code",
     "collapsed": false,
     "input": [
      "age(1995)"
     ],
     "language": "python",
     "metadata": {},
     "outputs": [
      {
       "metadata": {},
       "output_type": "pyout",
       "prompt_number": 11,
       "text": [
        "20"
       ]
      }
     ],
     "prompt_number": 11
    },
    {
     "cell_type": "code",
     "collapsed": false,
     "input": [
      "age(1000)"
     ],
     "language": "python",
     "metadata": {},
     "outputs": [
      {
       "metadata": {},
       "output_type": "pyout",
       "prompt_number": 7,
       "text": [
        "1015"
       ]
      }
     ],
     "prompt_number": 7
    },
    {
     "cell_type": "code",
     "collapsed": false,
     "input": [
      "\"aaaa\" + str(1234)"
     ],
     "language": "python",
     "metadata": {},
     "outputs": [
      {
       "metadata": {},
       "output_type": "pyout",
       "prompt_number": 12,
       "text": [
        "'aaaa1234'"
       ]
      }
     ],
     "prompt_number": 12
    },
    {
     "cell_type": "code",
     "collapsed": false,
     "input": [
      "def is_adult(birth_year):\n",
      "    if age(birth_year) >= 18:\n",
      "        return True\n",
      "    else:\n",
      "        return False"
     ],
     "language": "python",
     "metadata": {},
     "outputs": [],
     "prompt_number": 13
    },
    {
     "cell_type": "code",
     "collapsed": false,
     "input": [
      "if is_adult(1995):\n",
      "    print(\"\u6210\u5e74\u4e86\")\n",
      "else:\n",
      "    print(\"\u4f60\u9084\u4e0d\u80fd\u4e0a\u591c\u5e97\")"
     ],
     "language": "python",
     "metadata": {},
     "outputs": [
      {
       "output_type": "stream",
       "stream": "stdout",
       "text": [
        "\u6210\u5e74\u4e86\n"
       ]
      }
     ],
     "prompt_number": 14
    },
    {
     "cell_type": "code",
     "collapsed": false,
     "input": [
      "if True and True:\n",
      "    print(\"True\")\n",
      "if False or True:\n",
      "    print(\"Good\")"
     ],
     "language": "python",
     "metadata": {},
     "outputs": [
      {
       "output_type": "stream",
       "stream": "stdout",
       "text": [
        "True\n",
        "Good\n"
       ]
      }
     ],
     "prompt_number": 9
    },
    {
     "cell_type": "heading",
     "level": 1,
     "metadata": {},
     "source": [
      "for \u8ff4\u5708"
     ]
    },
    {
     "cell_type": "code",
     "collapsed": false,
     "input": [
      "for i in [1,3,5]:  # list -> \u4f60\u719f\u77e5\u7684\u9663\u5217\n",
      "    print(i)"
     ],
     "language": "python",
     "metadata": {},
     "outputs": [
      {
       "output_type": "stream",
       "stream": "stdout",
       "text": [
        "1\n",
        "3\n",
        "5\n"
       ]
      }
     ],
     "prompt_number": 27
    },
    {
     "cell_type": "code",
     "collapsed": false,
     "input": [
      "for i in range(3):\n",
      "    print(i)"
     ],
     "language": "python",
     "metadata": {},
     "outputs": [
      {
       "output_type": "stream",
       "stream": "stdout",
       "text": [
        "0\n",
        "1\n",
        "2\n"
       ]
      }
     ],
     "prompt_number": 31
    },
    {
     "cell_type": "code",
     "collapsed": false,
     "input": [
      "for i in range(1, 4):\n",
      "    print(i)"
     ],
     "language": "python",
     "metadata": {},
     "outputs": [
      {
       "output_type": "stream",
       "stream": "stdout",
       "text": [
        "1\n",
        "2\n",
        "3\n"
       ]
      }
     ],
     "prompt_number": 34
    },
    {
     "cell_type": "code",
     "collapsed": false,
     "input": [
      "s = 0\n",
      "for i in range(1, 11):\n",
      "    s += i\n",
      "print(s)"
     ],
     "language": "python",
     "metadata": {},
     "outputs": [
      {
       "output_type": "stream",
       "stream": "stdout",
       "text": [
        "55\n"
       ]
      }
     ],
     "prompt_number": 36
    },
    {
     "cell_type": "code",
     "collapsed": false,
     "input": [
      "chr(65)"
     ],
     "language": "python",
     "metadata": {},
     "outputs": [
      {
       "metadata": {},
       "output_type": "pyout",
       "prompt_number": 38,
       "text": [
        "'A'"
       ]
      }
     ],
     "prompt_number": 38
    },
    {
     "cell_type": "code",
     "collapsed": false,
     "input": [
      "chr(97)"
     ],
     "language": "python",
     "metadata": {},
     "outputs": [
      {
       "metadata": {},
       "output_type": "pyout",
       "prompt_number": 48,
       "text": [
        "'a'"
       ]
      }
     ],
     "prompt_number": 48
    },
    {
     "cell_type": "code",
     "collapsed": false,
     "input": [
      "data = ''\n",
      "for i in range(40, 60):\n",
      "    data += chr(i)\n",
      "print(data)"
     ],
     "language": "python",
     "metadata": {},
     "outputs": [
      {
       "output_type": "stream",
       "stream": "stdout",
       "text": [
        "()*+,-./0123456789:;\n"
       ]
      }
     ],
     "prompt_number": 49
    },
    {
     "cell_type": "code",
     "collapsed": false,
     "input": [
      "# p1: 1 + 5 + 9 + ... + 9997\n",
      "s = 0\n",
      "for i in range(1, 9998, 4):\n",
      "    s += i\n",
      "print(s)"
     ],
     "language": "python",
     "metadata": {},
     "outputs": [
      {
       "output_type": "stream",
       "stream": "stdout",
       "text": [
        "12497500\n"
       ]
      }
     ],
     "prompt_number": 51
    },
    {
     "cell_type": "code",
     "collapsed": false,
     "input": [
      "# p2: 100! % 123456789012345\n",
      "\n",
      "s = 1\n",
      "for i in range(1, 101):\n",
      "    s *= i\n",
      "\n",
      "print(s % 123456789012345)"
     ],
     "language": "python",
     "metadata": {},
     "outputs": [
      {
       "output_type": "stream",
       "stream": "stdout",
       "text": [
        "64750788939855\n"
       ]
      }
     ],
     "prompt_number": 53
    },
    {
     "cell_type": "code",
     "collapsed": false,
     "input": [
      "#p3: 1^2 + 2^2 + ... + 100^2\n",
      "\n",
      "print(sum( i ** 2 for i in range(1, 101) ))"
     ],
     "language": "python",
     "metadata": {},
     "outputs": [
      {
       "output_type": "stream",
       "stream": "stdout",
       "text": [
        "338350\n"
       ]
      }
     ],
     "prompt_number": 56
    },
    {
     "cell_type": "code",
     "collapsed": false,
     "input": [
      "# list comprehension\n",
      "[ i * 2 + 7 for i in range(1, 4) ]"
     ],
     "language": "python",
     "metadata": {},
     "outputs": [
      {
       "metadata": {},
       "output_type": "pyout",
       "prompt_number": 59,
       "text": [
        "[9, 11, 13]"
       ]
      }
     ],
     "prompt_number": 59
    },
    {
     "cell_type": "heading",
     "level": 1,
     "metadata": {},
     "source": [
      "\u51f1\u85a9\u52a0\u5bc6"
     ]
    },
    {
     "cell_type": "code",
     "collapsed": false,
     "input": [
      "chr(ord('Z') + 1)"
     ],
     "language": "python",
     "metadata": {},
     "outputs": [
      {
       "metadata": {},
       "output_type": "pyout",
       "prompt_number": 61,
       "text": [
        "'['"
       ]
      }
     ],
     "prompt_number": 61
    },
    {
     "cell_type": "code",
     "collapsed": false,
     "input": [
      "mode = input(\"1 = \u52a0\u5bc6 2 = \u89e3\u5bc6\uff1a\")\n",
      "data = input(\"\u8f38\u5165\u8981\u52a0\u5bc6\u7684\u8cc7\u6599\uff1a\")\n",
      "output = \"\" # \u6e96\u5099\u7528\u4f86\u653e\u7d50\u679c\n",
      "\n",
      "for i in data: # \u53d6\u51fa\u8f38\u5165\u7684\u6bcf\u4e00\u500b\u5b57\n",
      "    n = ord(i) # \u8f49\u63db\u6210 ASCII \u78bc\n",
      "    if mode == \"1\":\n",
      "        n = n + 5 # \u52a0\u5bc6\n",
      "    else:\n",
      "        n = n - 5 # \u89e3\u5bc6\n",
      "    c = chr(n) # \u5f9e ASCII \u8f49\u56de\u5b57\u4e32\n",
      "    output += c # \u628a\u52a0\u5bc6 / \u89e3\u5bc6\u5b8c\u7684\u5b57\u4e32\u8d77\u4f86\n",
      "print(output)"
     ],
     "language": "python",
     "metadata": {},
     "outputs": [
      {
       "name": "stdout",
       "output_type": "stream",
       "stream": "stdout",
       "text": [
        "1 = \u52a0\u5bc6 2 = \u89e3\u5bc6\uff1a1\n"
       ]
      },
      {
       "name": "stdout",
       "output_type": "stream",
       "stream": "stdout",
       "text": [
        "\u8f38\u5165\u8981\u52a0\u5bc6\u7684\u8cc7\u6599\uff1aSTUVWXYZ\n"
       ]
      },
      {
       "output_type": "stream",
       "stream": "stdout",
       "text": [
        "XYZ[\\]^_\n"
       ]
      }
     ],
     "prompt_number": 1
    },
    {
     "cell_type": "markdown",
     "metadata": {},
     "source": [
      "- `def caesar_crypt(data, key, is_encrypt):`\n",
      "- \u53ea\u8655\u7406**\u5927\u5beb\u5b57\u6bcd**\n",
      "- \u53ef\u4ee5\u8f38\u5165 key \u662f\u591a\u5c11"
     ]
    },
    {
     "cell_type": "code",
     "collapsed": false,
     "input": [
      "1 < 2 <= 2 < 3 < 4"
     ],
     "language": "python",
     "metadata": {},
     "outputs": [
      {
       "metadata": {},
       "output_type": "pyout",
       "prompt_number": 3,
       "text": [
        "True"
       ]
      }
     ],
     "prompt_number": 3
    },
    {
     "cell_type": "code",
     "collapsed": false,
     "input": [
      "def caesar_n(n, key):\n",
      "    # 0 <= n < 26\n",
      "    return (n + key) % 26\n",
      "\n",
      "a = caesar_n(25, 8)\n",
      "b = caesar_n(a, -8)\n",
      "print(a, b)"
     ],
     "language": "python",
     "metadata": {},
     "outputs": [
      {
       "output_type": "stream",
       "stream": "stdout",
       "text": [
        "7 25\n"
       ]
      }
     ],
     "prompt_number": 4
    },
    {
     "cell_type": "code",
     "collapsed": false,
     "input": [
      "def caesar_n(n, key):\n",
      "    # 0 <= n < 5\n",
      "    return (n + key) % 5\n",
      "\n",
      "a = caesar_n(3, 2)\n",
      "b = caesar_n(a, -2)\n",
      "print(a, b)"
     ],
     "language": "python",
     "metadata": {},
     "outputs": [
      {
       "output_type": "stream",
       "stream": "stdout",
       "text": [
        "0 3\n"
       ]
      }
     ],
     "prompt_number": 6
    },
    {
     "cell_type": "code",
     "collapsed": false,
     "input": [
      "def caesar_n(n, key):\n",
      "    # 0 <= n < 26\n",
      "    return (n + key) % 26\n",
      "\n",
      "def caesar_crypt(data, key, is_encrypt):\n",
      "    if not is_encrypt:\n",
      "        key = -key\n",
      "        \n",
      "    result = ''\n",
      "    for ch in data:\n",
      "        if 65 <= ord(ch) <= 65+26:\n",
      "            n = ord(ch) - ord('A') # -65\n",
      "            n = caesar_n(n, key)\n",
      "            n += 65\n",
      "            ch = chr(n)\n",
      "        result += ch\n",
      "    return result\n",
      "\n",
      "data = input(\"Data:\")\n",
      "key  = input(\"Key:\")\n",
      "enc  = input(\"0 for decrypt, 1 for encrypt:\")\n",
      "\n",
      "print(caesar_crypt(data, int(key), int(enc)))"
     ],
     "language": "python",
     "metadata": {},
     "outputs": [
      {
       "name": "stdout",
       "output_type": "stream",
       "stream": "stdout",
       "text": [
        "Data:\n"
       ]
      },
      {
       "name": "stdout",
       "output_type": "stream",
       "stream": "stdout",
       "text": [
        "Key:0\n"
       ]
      },
      {
       "name": "stdout",
       "output_type": "stream",
       "stream": "stdout",
       "text": [
        "0 for decrypt, 1 for encrypt:0\n"
       ]
      },
      {
       "output_type": "stream",
       "stream": "stdout",
       "text": [
        "\n"
       ]
      }
     ],
     "prompt_number": 21
    },
    {
     "cell_type": "code",
     "collapsed": false,
     "input": [
      "for i in range(10):\n",
      "    if i == 2:\n",
      "        break\n",
      "    print(i)"
     ],
     "language": "python",
     "metadata": {},
     "outputs": [
      {
       "output_type": "stream",
       "stream": "stdout",
       "text": [
        "0\n",
        "1\n"
       ]
      }
     ],
     "prompt_number": 26
    },
    {
     "cell_type": "code",
     "collapsed": false,
     "input": [
      "for i in range(1, 6):\n",
      "    if i == 2:\n",
      "        continue\n",
      "    print(i)"
     ],
     "language": "python",
     "metadata": {},
     "outputs": [
      {
       "output_type": "stream",
       "stream": "stdout",
       "text": [
        "1\n",
        "3\n",
        "4\n",
        "5\n"
       ]
      }
     ],
     "prompt_number": 29
    },
    {
     "cell_type": "code",
     "collapsed": false,
     "input": [
      "for i in range(3):\n",
      "    print(i)\n",
      "else:\n",
      "    print('For ... Else')"
     ],
     "language": "python",
     "metadata": {},
     "outputs": [
      {
       "output_type": "stream",
       "stream": "stdout",
       "text": [
        "0\n",
        "1\n",
        "2\n",
        "For ... Else\n"
       ]
      }
     ],
     "prompt_number": 32
    },
    {
     "cell_type": "code",
     "collapsed": false,
     "input": [
      "for i in range(3):\n",
      "    print(i)\n",
      "    break\n",
      "else:\n",
      "    print('For ... Else')"
     ],
     "language": "python",
     "metadata": {},
     "outputs": [
      {
       "output_type": "stream",
       "stream": "stdout",
       "text": [
        "0\n"
       ]
      }
     ],
     "prompt_number": 34
    },
    {
     "cell_type": "code",
     "collapsed": false,
     "input": [
      "def is_prime(n):\n",
      "    for i in range(2, n):\n",
      "        if n % i == 0:\n",
      "            break\n",
      "    else:\n",
      "        return True\n",
      "    return False\n",
      "\n",
      "for i in range(51, 101):\n",
      "    if is_prime(i):\n",
      "        print('%d is prime%s' % (i, '!'))"
     ],
     "language": "python",
     "metadata": {},
     "outputs": [
      {
       "output_type": "stream",
       "stream": "stdout",
       "text": [
        "53 is prime!\n",
        "59 is prime!\n",
        "61 is prime!\n",
        "67 is prime!\n",
        "71 is prime!\n",
        "73 is prime!\n",
        "79 is prime!\n",
        "83 is prime!\n",
        "89 is prime!\n",
        "97 is prime!\n"
       ]
      }
     ],
     "prompt_number": 36
    }
   ],
   "metadata": {}
  }
 ]
}